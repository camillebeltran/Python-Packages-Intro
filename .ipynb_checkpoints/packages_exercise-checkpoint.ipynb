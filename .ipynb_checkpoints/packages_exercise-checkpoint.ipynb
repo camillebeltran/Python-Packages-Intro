{
 "cells": [
  {
   "cell_type": "markdown",
   "metadata": {},
   "source": [
    "# ECE 196 – Python Packages Exercises\n",
    "## Exercise 1 - Numpy"
   ]
  },
  {
   "cell_type": "code",
   "execution_count": 1,
   "metadata": {},
   "outputs": [],
   "source": [
    "import numpy as np"
   ]
  },
  {
   "cell_type": "markdown",
   "metadata": {},
   "source": [
    "1. Create a 10x10 matrix and fill it with a checkerboard pattern of 1 and 0 using Numpy."
   ]
  },
  {
   "cell_type": "code",
   "execution_count": 2,
   "metadata": {},
   "outputs": [
    {
     "ename": "SyntaxError",
     "evalue": "invalid syntax (<ipython-input-2-5300b9151973>, line 1)",
     "output_type": "error",
     "traceback": [
      "\u001b[0;36m  File \u001b[0;32m\"<ipython-input-2-5300b9151973>\"\u001b[0;36m, line \u001b[0;32m1\u001b[0m\n\u001b[0;31m    board = ##### Write your code here #####\u001b[0m\n\u001b[0m                                            ^\u001b[0m\n\u001b[0;31mSyntaxError\u001b[0m\u001b[0;31m:\u001b[0m invalid syntax\n"
     ]
    }
   ],
   "source": [
    "board = ##### Write your code here #####\n",
    "##### Write your code here #####\n",
    "##### Write your code here #####\n",
    "print(board)"
   ]
  },
  {
   "cell_type": "markdown",
   "metadata": {},
   "source": [
    "2. Write a NumPy program to sort an along the first, last axis of an array."
   ]
  },
  {
   "cell_type": "code",
   "execution_count": null,
   "metadata": {},
   "outputs": [],
   "source": [
    "my_array = ##### Write your code here #####\n",
    "print(my_array)\n",
    "##### Write your code here #####\n",
    "##### Write your code here #####"
   ]
  },
  {
   "cell_type": "markdown",
   "metadata": {},
   "source": [
    "3. \n",
    "a) Write a NumPy program to create an array with values ranging from 5 to 30."
   ]
  },
  {
   "cell_type": "code",
   "execution_count": null,
   "metadata": {},
   "outputs": [],
   "source": [
    "array = ##### Write your code here #####\n",
    "print(array)"
   ]
  },
  {
   "cell_type": "markdown",
   "metadata": {},
   "source": [
    "b) Create a sub array1 that contains every third value starting at 7 and another sub array2 that contains every second value starting at 15."
   ]
  },
  {
   "cell_type": "code",
   "execution_count": null,
   "metadata": {},
   "outputs": [],
   "source": [
    "array1 = ##### Write your code here #####\n",
    "array2 = ##### Write your code here #####\n",
    "print(array1)\n",
    "print(array2)"
   ]
  },
  {
   "cell_type": "markdown",
   "metadata": {},
   "source": [
    "c) Compare two given arrays using `> >= == <= <`."
   ]
  },
  {
   "cell_type": "code",
   "execution_count": null,
   "metadata": {},
   "outputs": [],
   "source": [
    "##### Write your code here #####\n",
    "##### Write your code here #####\n",
    "##### Write your code here #####\n",
    "##### Write your code here #####\n",
    "##### Write your code here #####"
   ]
  },
  {
   "cell_type": "markdown",
   "metadata": {},
   "source": [
    "d) Make the first array a 4x2 matrix and the second array a 2x4 matrix."
   ]
  },
  {
   "cell_type": "code",
   "execution_count": null,
   "metadata": {},
   "outputs": [],
   "source": [
    "array1 = ##### Write your code here #####\n",
    "array2 = ##### Write your code here #####\n",
    "print(array1)\n",
    "print(array2)"
   ]
  },
  {
   "cell_type": "markdown",
   "metadata": {},
   "source": [
    "e)Try adding 2 to array1.  \n",
    "Now try multiplying array2 by array3.  \n",
    "Can you add array1 and array2?  \n",
    "Can you multiply array1 and array2?  \n",
    "What happens when you try dot product?"
   ]
  },
  {
   "cell_type": "code",
   "execution_count": null,
   "metadata": {},
   "outputs": [],
   "source": [
    "array3 = np.full((2, 4), 2)\n",
    "\n",
    "##### Write your code here #####\n",
    "print(array1)\n",
    "\n",
    "##### Write your code here #####\n",
    "print(array2)\n",
    "\n",
    "##### Write your code here #####\n",
    "##### Write your code here #####\n",
    "\n",
    "##### Write your code here #####\n",
    "##### Write your code here #####"
   ]
  },
  {
   "cell_type": "code",
   "execution_count": null,
   "metadata": {},
   "outputs": [],
   "source": []
  }
 ],
 "metadata": {
  "kernelspec": {
   "display_name": "Python 3",
   "language": "python",
   "name": "python3"
  },
  "language_info": {
   "codemirror_mode": {
    "name": "ipython",
    "version": 3
   },
   "file_extension": ".py",
   "mimetype": "text/x-python",
   "name": "python",
   "nbconvert_exporter": "python",
   "pygments_lexer": "ipython3",
   "version": "3.7.4"
  }
 },
 "nbformat": 4,
 "nbformat_minor": 2
}
