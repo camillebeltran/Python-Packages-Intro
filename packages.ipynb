{
 "cells": [
  {
   "cell_type": "markdown",
   "metadata": {
    "slideshow": {
     "slide_type": "slide"
    }
   },
   "source": [
    "# ECE 196 Lecture 3: Python Packages for ML"
   ]
  },
  {
   "cell_type": "markdown",
   "metadata": {
    "slideshow": {
     "slide_type": "slide"
    }
   },
   "source": [
    "# What we will cover today\n",
    "* Numpy\n",
    "* Pandas\n",
    "* Matplotlib\n",
    "* Seaborn\n",
    "* Scikit-Learn"
   ]
  },
  {
   "cell_type": "markdown",
   "metadata": {
    "slideshow": {
     "slide_type": "slide"
    }
   },
   "source": [
    "## Numpy"
   ]
  },
  {
   "cell_type": "markdown",
   "metadata": {
    "slideshow": {
     "slide_type": "fragment"
    }
   },
   "source": [
    "<div class=\"alert alert-success\">\n",
    "<a href=\"https://numpy.org/doc/stable/user/whatisnumpy.html\" class=\"alert-link\">Numpy</a> is a Python library for scientific computing in Python, that provides a multidimensional array object and tools to working with these arrays efficiently. NumPy gives you an enormous range of fast and efficient ways of creating arrays and manipulating numerical data inside them.\n",
    "</div>"
   ]
  },
  {
   "cell_type": "markdown",
   "metadata": {
    "slideshow": {
     "slide_type": "fragment"
    }
   },
   "source": [
    "Read the <a href=\"https://numpy.org/devdocs/user/absolute_beginners.html\">beginner's guide on Numpy</a> and more about its detailed <a href=\"https://numpy.org/doc/stable/reference/\">documentation</a>.\n"
   ]
  },
  {
   "cell_type": "markdown",
   "metadata": {
    "slideshow": {
     "slide_type": "subslide"
    }
   },
   "source": [
    "1. Numpy vs list\n",
    "2. Creating Numpy arrays\n",
    "3. Shape\n",
    "    * array shape\n",
    "    * reshape\n",
    "    * transpose\n",
    "4. Indexing and slicing\n",
    "5. Basic Numpy array operations"
   ]
  },
  {
   "cell_type": "markdown",
   "metadata": {
    "slideshow": {
     "slide_type": "slide"
    }
   },
   "source": [
    "### 1. Numpy vs list\n",
    "* **Size** - Numpy data structures take up less space\n",
    "* **Performance** - faster than lists\n",
    "* **Functionality** - Numpy have optimized functions such as linear algebra operations built in.\n",
    "\n",
    "The elements in a NumPy array are all required to be of the same data type (homogeneous).  \n",
    "Numpy arrays have specific <a href=\"https://numpy.org/devdocs/user/basics.types.html\">numpy datatypes</a>.  \n",
    "Numpy has operations that typically require nested loops in a simple list e.g. element wise operation is not possible on the list."
   ]
  },
  {
   "cell_type": "code",
   "execution_count": 1,
   "metadata": {
    "slideshow": {
     "slide_type": "subslide"
    }
   },
   "outputs": [
    {
     "name": "stdout",
     "output_type": "stream",
     "text": [
      "[[1, 2, 3], [4, 5, 6], [7, 8, 9]]\n",
      "[[1 2 3]\n",
      " [4 5 6]\n",
      " [7 8 9]]\n"
     ]
    },
    {
     "ename": "TypeError",
     "evalue": "can only concatenate list (not \"int\") to list",
     "output_type": "error",
     "traceback": [
      "\u001b[0;31m---------------------------------------------------------------------------\u001b[0m",
      "\u001b[0;31mTypeError\u001b[0m                                 Traceback (most recent call last)",
      "\u001b[0;32m<ipython-input-1-aca08013efb6>\u001b[0m in \u001b[0;36m<module>\u001b[0;34m\u001b[0m\n\u001b[1;32m     12\u001b[0m \u001b[0;34m\u001b[0m\u001b[0m\n\u001b[1;32m     13\u001b[0m \u001b[0mmy_list2\u001b[0m \u001b[0;34m=\u001b[0m \u001b[0;34m[\u001b[0m\u001b[0mfloat\u001b[0m\u001b[0;34m(\u001b[0m\u001b[0mi\u001b[0m\u001b[0;34m)\u001b[0m \u001b[0;32mfor\u001b[0m \u001b[0mi\u001b[0m \u001b[0;32min\u001b[0m \u001b[0mrange\u001b[0m\u001b[0;34m(\u001b[0m\u001b[0;36m2\u001b[0m\u001b[0;34m)\u001b[0m\u001b[0;34m]\u001b[0m          \u001b[0;31m# Need list comprehension to type cast all elements\u001b[0m\u001b[0;34m\u001b[0m\u001b[0;34m\u001b[0m\u001b[0m\n\u001b[0;32m---> 14\u001b[0;31m \u001b[0mmy_list2\u001b[0m \u001b[0;34m=\u001b[0m \u001b[0mmy_list2\u001b[0m \u001b[0;34m+\u001b[0m \u001b[0;36m2\u001b[0m\u001b[0;34m\u001b[0m\u001b[0;34m\u001b[0m\u001b[0m\n\u001b[0m\u001b[1;32m     15\u001b[0m \u001b[0mmy_list2\u001b[0m \u001b[0;34m=\u001b[0m \u001b[0;34m[\u001b[0m\u001b[0mnum\u001b[0m \u001b[0;34m+\u001b[0m \u001b[0;36m2\u001b[0m \u001b[0;32mfor\u001b[0m \u001b[0mnum\u001b[0m \u001b[0;32min\u001b[0m \u001b[0mmy_list2\u001b[0m\u001b[0;34m]\u001b[0m\u001b[0;34m\u001b[0m\u001b[0;34m\u001b[0m\u001b[0m\n\u001b[1;32m     16\u001b[0m \u001b[0mmy_array2\u001b[0m \u001b[0;34m=\u001b[0m \u001b[0mmy_array2\u001b[0m \u001b[0;34m+\u001b[0m \u001b[0;36m5\u001b[0m\u001b[0;34m\u001b[0m\u001b[0;34m\u001b[0m\u001b[0m\n",
      "\u001b[0;31mTypeError\u001b[0m: can only concatenate list (not \"int\") to list"
     ]
    }
   ],
   "source": [
    "# import numpy as np\n",
    "\n",
    "# my_list = [[1, 2 ,3], [4, 5, 6], [7, 8, 9]]\n",
    "# my_array = np.array([[1, 2 ,3], [4, 5, 6], [7, 8, 9]])\n",
    "# print(my_list)\n",
    "# print(my_array)\n",
    "\n",
    "# my_list[0][1] = 'a string'                       # list elements can be any type -- heterogeneous\n",
    "# # my_array[0][1] = 'a string'                    # numpy array elements must be the same type -- homogeneous\n",
    "# my_array2 = np.array([1, 2], dtype=np.float64)   # Specify a particular datatype\n",
    "# my_array3 = my_array2.astype(np.int64)\n",
    "\n",
    "# my_list2 = [float(i) for i in range(2)]          # Need list comprehension to type cast all elements\n",
    "# my_list2 = my_list2 + 2\n",
    "# my_list2 = [num + 2 for num in my_list2]\n",
    "# my_array2 = my_array2 + 5\n",
    "# print(my_array2)"
   ]
  },
  {
   "cell_type": "markdown",
   "metadata": {
    "slideshow": {
     "slide_type": "slide"
    }
   },
   "source": [
    "#### 2. Creating Numpy arrays\n",
    "There are several different ways to create numpy arrays, to name a few:"
   ]
  },
  {
   "cell_type": "code",
   "execution_count": null,
   "metadata": {
    "slideshow": {
     "slide_type": "subslide"
    }
   },
   "outputs": [],
   "source": [
    "# a = np.zeros((2,2))            # Create an array of all zeros with specified shape\n",
    "# print(a)\n",
    "# b = np.ones((1,2))             # Create an array of all ones with specified shape\n",
    "# print(b)\n",
    "# c = np.full((2,2), 7)          # Create an array filled with specified value(s)\n",
    "# print(c)\n",
    "# d = np.eye(2)                  # Create an identity matrix with specified shape\n",
    "# print(d)\n",
    "# e = np.random.random((2,2))    # Create an array filled with random values with specified shape\n",
    "# print(e)\n",
    "# f = np.empty((3,2))            # Create an array filled with random values depending on the state of your machine\n",
    "# print(f)\n",
    "# g = np.arange(12)              # Create a 1-D array from 0 to specified value (similar to Python's built-in range)\n",
    "# print(g)                       # Also follows (start, stop, step)\n",
    "# my_list = range(2, 20, 3)\n",
    "# h = np.array(my_list)          # Create a numpy array from a list\n",
    "# print(h)\n",
    "# i = np.linspace(0, 100, num=9) # Create a array evenly spaced by specified intervals\n",
    "# print(i)"
   ]
  },
  {
   "cell_type": "markdown",
   "metadata": {
    "slideshow": {
     "slide_type": "slide"
    }
   },
   "source": [
    "#### 3. Shape\n",
    "You can use `array.ndim`, `array.size`, and `array.shape` to evaluate the shape of your numpy array.  \n",
    "You are also able to freely manipulate the shape of your array using `array.reshape(row, col)` and `array.T`.\n",
    "The shape of an array is a tuple of integers giving the size of the array along each dimension.  "
   ]
  },
  {
   "cell_type": "code",
   "execution_count": null,
   "metadata": {
    "slideshow": {
     "slide_type": "subslide"
    }
   },
   "outputs": [],
   "source": [
    "# print(type(array))\n",
    "# print(type(array[0]))\n",
    "# print(type(array[0][0]))\n",
    "# print(array.shape) # prints a tuple of the array (row, col)\n",
    "\n",
    "# array = np.arange(12)\n",
    "# array = array.reshape(4,3)\n",
    "# print(array)\n",
    "# print('array dimension = ', array.ndim)\n",
    "# print('number of elements = ', array.size)\n",
    "# print('rows and columns of array = ', array.shape)\n",
    "\n",
    "# array = array.reshape(2,6)\n",
    "# print(array)\n",
    "# print('rows and columns of array = ', array.shape)\n",
    "# print('transposed array = \\n', array.T)\n",
    "# print('transposed array = \\n', np.transpose(array))\n",
    "\n",
    "# array = np.arange(8).reshape(2,2,2)\n",
    "# print(array)\n",
    "# print('rows and columns and channels of array = ', array.shape)\n",
    "# array = np.reshape(array, (4, -1))\n",
    "# print(array)\n",
    "# print('rows and columns of array = ', array.shape)"
   ]
  },
  {
   "cell_type": "markdown",
   "metadata": {
    "slideshow": {
     "slide_type": "slide"
    }
   },
   "source": [
    "#### 4. Indexing and slicing\n",
    "A new possible syntax for indexing. `[row][col] & [row,col]`  \n",
    "Slicing still follows `start:stop:step`"
   ]
  },
  {
   "cell_type": "code",
   "execution_count": null,
   "metadata": {
    "slideshow": {
     "slide_type": "subslide"
    }
   },
   "outputs": [],
   "source": [
    "# my_list = [[1,1,2],[5,4,3]]\n",
    "# # print(my_list[1,1])\n",
    "# my_array = np.array(my_list)\n",
    "# print(my_array[1,2])\n",
    "# print(my_array[1][2])\n",
    "# sub_array = my_array[:,::2]\n",
    "# print(sub_array)"
   ]
  },
  {
   "cell_type": "markdown",
   "metadata": {
    "slideshow": {
     "slide_type": "subslide"
    }
   },
   "source": [
    "What will the following sliced array print?"
   ]
  },
  {
   "cell_type": "code",
   "execution_count": null,
   "metadata": {
    "slideshow": {
     "slide_type": "fragment"
    }
   },
   "outputs": [],
   "source": [
    "# array = np.arange(24).reshape((6,4))\n",
    "# sliced_array = array[1::2,:-2:3]\n",
    "# print(array)\n",
    "# # print(sliced_array)"
   ]
  },
  {
   "cell_type": "markdown",
   "metadata": {
    "slideshow": {
     "slide_type": "subslide"
    }
   },
   "source": [
    "A)\n",
    "```python\n",
    "[[ 0]\n",
    " [ 5]\n",
    " [10]\n",
    " [15]]```\n",
    "B)  \n",
    "```python\n",
    "[[ 4]\n",
    " [12]\n",
    " [20]]```\n",
    "C)  \n",
    "```python\n",
    "[[ 5  7\n",
    " [13 15]]```\n",
    "D)  \n",
    "```python\n",
    "[[12 13 14 15]]```"
   ]
  },
  {
   "cell_type": "markdown",
   "metadata": {
    "slideshow": {
     "slide_type": "slide"
    }
   },
   "source": [
    "#### 5. Basic Numpy array operations\n",
    "Numpy allows for easier <a href=\"https://numpy.org/doc/stable/reference/routines.math.html\" class=\"alert-link\">mathematical operations</a>.\n",
    "Some operations are overloaded as both operators and functions. Say x and y are both numpy arrays, we can perform the following:\n",
    "```python\n",
    "x + y == np.add(x, y)\n",
    "x - y == np.subtract(x, y)\n",
    "x / y == np.divide(x, y)\n",
    "x * y == np.multiply(x, y)\n",
    "x.dot(y) == np.dot(x, y)\n",
    "np.sqrt(x)\n",
    "np.square(x)\n",
    "```\n",
    "Numpy broadcasting lets us to perform operations on arrays of different sizes. Read more on <a href=\"https://numpy.org/doc/stable/user/basics.broadcasting.html\">broadcasting documentation</a>.  \n",
    "A lot of these operations have the option to specify the axis, read more about <a href=\"https://www.sharpsightlabs.com/blog/numpy-axes-explained/#:~:text=In%20any%20Python%20sequence%20%E2%80%93%20like,1%2C%E2%80%9D%20and%20so%20on.\">Numpy axes</a>."
   ]
  },
  {
   "cell_type": "code",
   "execution_count": null,
   "metadata": {
    "slideshow": {
     "slide_type": "subslide"
    }
   },
   "outputs": [],
   "source": [
    "# my_list = [[1, 2],[3, 4]]\n",
    "# print(my_list)\n",
    "# my_list2 = [[4,3],[2,1]]\n",
    "# print(my_list2)\n",
    "# print(my_list + my_list2)"
   ]
  },
  {
   "cell_type": "code",
   "execution_count": null,
   "metadata": {
    "slideshow": {
     "slide_type": "fragment"
    }
   },
   "outputs": [],
   "source": [
    "# my_array = np.array(my_list)\n",
    "# print(my_array)\n",
    "# my_array2 = np.array(my_list2)\n",
    "# print(my_array2)\n",
    "# print(my_array + my_array2) # supports broadcasting"
   ]
  },
  {
   "cell_type": "code",
   "execution_count": null,
   "metadata": {
    "slideshow": {
     "slide_type": "subslide"
    }
   },
   "outputs": [],
   "source": [
    "# print(my_list * my_list2)               # cannot operate on list\n",
    "# print(my_array * my_array2)             # easily perform element-wise product\n",
    "# print(np.multiply(my_array, my_array))  # overloaded function to do the same thing\n",
    "# print(my_array2.dot(my_array))          # use this for matrix multiplication\n",
    "# print(np.dot(my_array, my_array2))      # another overloaded function\n",
    "# print(my_array.dot(my_array2))          # order matters for dot product!"
   ]
  },
  {
   "cell_type": "markdown",
   "metadata": {
    "slideshow": {
     "slide_type": "subslide"
    }
   },
   "source": [
    "<a href=\"https://numpy.org/doc/stable/reference/generated/numpy.sum.html\">sum</a>  \n",
    "`numpy.sum()` adds up all the values in your array or in a specified direction of your array."
   ]
  },
  {
   "cell_type": "code",
   "execution_count": null,
   "metadata": {
    "slideshow": {
     "slide_type": "fragment"
    }
   },
   "outputs": [],
   "source": [
    "# my_array = np.array([[4,1],[3,2]])\n",
    "# print(my_array)\n",
    "\n",
    "# print(np.sum(my_array))\n",
    "# print(np.sum(my_array, axis=0))\n",
    "# print(np.sum(my_array, axis=1))"
   ]
  },
  {
   "cell_type": "markdown",
   "metadata": {
    "slideshow": {
     "slide_type": "subslide"
    }
   },
   "source": [
    "<a href = \"https://numpy.org/doc/stable/reference/generated/numpy.sort.html\">sort</a>  \n",
    "`numpy.sort()` sorts all values in your array or in a specified direction of your array."
   ]
  },
  {
   "cell_type": "code",
   "execution_count": null,
   "metadata": {
    "slideshow": {
     "slide_type": "fragment"
    }
   },
   "outputs": [],
   "source": [
    "# my_array = np.array([[4,1],[3,2]])\n",
    "# print(my_array)\n",
    "\n",
    "# print(np.sort(my_array))               # sort along the last axis\n",
    "# print(np.sort(my_array, axis=None))    # sort the flattened array\n",
    "# print(np.sort(my_array, axis=0))       # sort along the first axis\n",
    "# print(np.sort(my_array, axis=1))       # sort along the second axis"
   ]
  },
  {
   "cell_type": "markdown",
   "metadata": {
    "slideshow": {
     "slide_type": "subslide"
    }
   },
   "source": [
    "<a href = \"https://numpy.org/doc/stable/reference/generated/numpy.unique.html\">unique</a>  \n",
    "`numpy.unique()` finds the unique values in your array and return them in a sorted array"
   ]
  },
  {
   "cell_type": "code",
   "execution_count": null,
   "metadata": {
    "slideshow": {
     "slide_type": "fragment"
    }
   },
   "outputs": [],
   "source": [
    "# my_array = np.array([[0,1,0,2],[2,1,2,2],[0,1,2,3]])\n",
    "# print(my_array)\n",
    "\n",
    "# print(np.unique(my_array))\n",
    "# print(np.unique(my_array, axis=0))                 # returns the unique rows of the array\n",
    "# arr, ind = np.unique(my_array, return_index=True)  # returns unique values and the first index of the unique value\n",
    "# print(arr, ind)"
   ]
  },
  {
   "cell_type": "markdown",
   "metadata": {
    "slideshow": {
     "slide_type": "subslide"
    }
   },
   "source": [
    "<a href = \"https://numpy.org/doc/stable/reference/generated/numpy.amax.html\">amax</a> & <a href = \"https://numpy.org/doc/stable/reference/generated/numpy.amin.html\">amin</a>  \n",
    "<a href = \"https://numpy.org/doc/stable/reference/generated/numpy.argmax.html\">argmax</a> & <a href = \"https://numpy.org/doc/stable/reference/generated/numpy.argmin.html\">argmin</a>  \n",
    "`numpy.amax()` and `numpy.amin()` find the first max and min value in your array.  \n",
    "`numpy.argmax()` and `numpy.argmin()` find the index of the first max and min value in your array.  "
   ]
  },
  {
   "cell_type": "code",
   "execution_count": null,
   "metadata": {
    "slideshow": {
     "slide_type": "fragment"
    }
   },
   "outputs": [],
   "source": [
    "# my_array = np.array([[4, 2, 3],[1, 3, 1]])\n",
    "# print(my_array)\n",
    "\n",
    "# print(np.amax(my_array))             # Maximum of the flattened array\n",
    "# print(np.amax(my_array, axis=0))     # Maxima along the first axis\n",
    "# print(np.amax(my_array, axis=1))     # Maxima along the second axis\n",
    "\n",
    "# print(np.argmin(my_array))           # Index of the minimum of the flattened array\n",
    "# print(np.argmin(my_array, axis=0))   # Index of the minima along the first axis\n",
    "# print(np.argmin(my_array, axis=1))   # Index of the minima along the second axis"
   ]
  },
  {
   "cell_type": "markdown",
   "metadata": {
    "slideshow": {
     "slide_type": "subslide"
    }
   },
   "source": [
    "<a href = \"https://numpy.org/doc/stable/reference/generated/numpy.ndarray.flatten.html\">flatten</a> & <a href =\"https://numpy.org/doc/stable/reference/generated/numpy.ravel.html#numpy.ravel\">ravel</a>  \n",
    "`numpy.ndarray.flatten` returns a copy of the array flattened into a 1D array.  \n",
    "`numpy.ravel` returns a contiguous flattened 1D array.  \n",
    "The difference is that `flatten` **makes a copy** of the original array, so modifying flattened array doesn't change the original array."
   ]
  },
  {
   "cell_type": "code",
   "execution_count": null,
   "metadata": {
    "slideshow": {
     "slide_type": "fragment"
    }
   },
   "outputs": [],
   "source": [
    "# my_array = np.array([[4, 2, 3],[1, 3, 1]])\n",
    "# print(my_array)\n",
    "\n",
    "# a = my_array.flatten()\n",
    "# b = np.ravel(my_array)\n",
    "# print(a)               # prints a 1D flattened array\n",
    "# print(b)               # prints a 1D flattened array\n",
    "\n",
    "# a[0] = 0\n",
    "# print(a)               # flattened array is modified\n",
    "# print(my_array)        # original array is not modified\n",
    "\n",
    "# b[0] = 0\n",
    "# print(b)               # flattened array is modified\n",
    "# print(my_array)        # original array is also modified"
   ]
  },
  {
   "cell_type": "markdown",
   "metadata": {
    "slideshow": {
     "slide_type": "slide"
    }
   },
   "source": [
    "## Pandas"
   ]
  },
  {
   "cell_type": "markdown",
   "metadata": {
    "slideshow": {
     "slide_type": "fragment"
    }
   },
   "source": [
    "<div class=\"alert alert-success\">\n",
    "<a href=\"https://www.learnpython.org/en/Pandas_Basics#:~:text=Pandas%20is%20a%20high%2Dlevel,observations%20and%20columns%20of%20variables.\" class=\"alert-link\">Pandas</a> is a Python library providing high-performance data manipulation and analysis tool using its powerful data structures.\n",
    "</div>"
   ]
  },
  {
   "cell_type": "markdown",
   "metadata": {
    "slideshow": {
     "slide_type": "fragment"
    }
   },
   "source": [
    "Read the <a href=\"https://pandas.pydata.org/docs/user_guide/10min.html#min\">beginner's guide on pandas</a> and more about its detailed <a href=\"https://pandas.pydata.org/docs/user_guide/index.html\">documentation</a>."
   ]
  },
  {
   "cell_type": "markdown",
   "metadata": {},
   "source": [
    "Features\n",
    "* Fast and efficient DataFrame object with default and customized indexing.\n",
    "* Tools for loading data into in-memory data objects from different file formats.\n",
    "* Data alignment and integrated handling of missing data.\n",
    "* Reshaping and pivoting of date sets.\n",
    "* Label-based slicing, indexing and subsetting of large data sets.\n",
    "* Columns from a data structure can be deleted or inserted.\n",
    "* Group by data for aggregation and transformations.\n",
    "* High performance merging and joining of data.\n",
    "* Time Series functionality."
   ]
  },
  {
   "cell_type": "markdown",
   "metadata": {
    "slideshow": {
     "slide_type": "slide"
    }
   },
   "source": [
    "1. Basic pandas structure: series and dataframe\n",
    "2. Reading and writing files\n",
    "3. Indexing\n",
    "4. Dealing with null values: drop or replace\n",
    "5. Time series\n",
    "6. Basic pandas operations\n",
    "    * merge\n",
    "    * join\n",
    "    * concatenate\n",
    "    * compare\n",
    "    * reshape\n",
    "    * pivot\n",
    "    * groupby\n",
    "    * apply\n",
    "    * agg"
   ]
  },
  {
   "cell_type": "markdown",
   "metadata": {
    "slideshow": {
     "slide_type": "slide"
    }
   },
   "source": [
    "#### 1. Basic pandas structure: series and dataframe\n",
    "series `s = pd.Series(data, index=index)`  \n",
    "data can be a Python dictionary, Numpy ndarray, or a scalar value  \n",
    "index can be a list of axis labels  "
   ]
  },
  {
   "cell_type": "code",
   "execution_count": 14,
   "metadata": {
    "slideshow": {
     "slide_type": "subslide"
    }
   },
   "outputs": [
    {
     "data": {
      "text/plain": [
       "0    1\n",
       "1    3\n",
       "2    5\n",
       "3    7\n",
       "4    9\n",
       "dtype: int64"
      ]
     },
     "execution_count": 14,
     "metadata": {},
     "output_type": "execute_result"
    }
   ],
   "source": [
    "import pandas as pd\n",
    "\n",
    "my_series = pd.Series([1, 3, 5, 7, 9])\n",
    "my_series"
   ]
  },
  {
   "cell_type": "code",
   "execution_count": 19,
   "metadata": {
    "slideshow": {
     "slide_type": "subslide"
    }
   },
   "outputs": [
    {
     "data": {
      "text/html": [
       "<div>\n",
       "<style scoped>\n",
       "    .dataframe tbody tr th:only-of-type {\n",
       "        vertical-align: middle;\n",
       "    }\n",
       "\n",
       "    .dataframe tbody tr th {\n",
       "        vertical-align: top;\n",
       "    }\n",
       "\n",
       "    .dataframe thead th {\n",
       "        text-align: right;\n",
       "    }\n",
       "</style>\n",
       "<table border=\"1\" class=\"dataframe\">\n",
       "  <thead>\n",
       "    <tr style=\"text-align: right;\">\n",
       "      <th></th>\n",
       "      <th>A</th>\n",
       "      <th>B</th>\n",
       "      <th>C</th>\n",
       "      <th>D</th>\n",
       "    </tr>\n",
       "  </thead>\n",
       "  <tbody>\n",
       "    <tr>\n",
       "      <th>2020-10-12</th>\n",
       "      <td>0.753181</td>\n",
       "      <td>0.005110</td>\n",
       "      <td>0.862003</td>\n",
       "      <td>0.902199</td>\n",
       "    </tr>\n",
       "    <tr>\n",
       "      <th>2020-10-13</th>\n",
       "      <td>0.804701</td>\n",
       "      <td>0.919923</td>\n",
       "      <td>0.382573</td>\n",
       "      <td>0.985774</td>\n",
       "    </tr>\n",
       "    <tr>\n",
       "      <th>2020-10-14</th>\n",
       "      <td>0.511095</td>\n",
       "      <td>0.686710</td>\n",
       "      <td>0.334212</td>\n",
       "      <td>0.818889</td>\n",
       "    </tr>\n",
       "    <tr>\n",
       "      <th>2020-10-15</th>\n",
       "      <td>0.571416</td>\n",
       "      <td>0.788159</td>\n",
       "      <td>0.204103</td>\n",
       "      <td>0.622657</td>\n",
       "    </tr>\n",
       "    <tr>\n",
       "      <th>2020-10-16</th>\n",
       "      <td>0.829468</td>\n",
       "      <td>0.341068</td>\n",
       "      <td>0.095448</td>\n",
       "      <td>0.174840</td>\n",
       "    </tr>\n",
       "    <tr>\n",
       "      <th>2020-10-17</th>\n",
       "      <td>0.681217</td>\n",
       "      <td>0.596701</td>\n",
       "      <td>0.852546</td>\n",
       "      <td>0.317219</td>\n",
       "    </tr>\n",
       "    <tr>\n",
       "      <th>2020-10-18</th>\n",
       "      <td>0.466704</td>\n",
       "      <td>0.110665</td>\n",
       "      <td>0.498379</td>\n",
       "      <td>0.130001</td>\n",
       "    </tr>\n",
       "  </tbody>\n",
       "</table>\n",
       "</div>"
      ],
      "text/plain": [
       "                   A         B         C         D\n",
       "2020-10-12  0.753181  0.005110  0.862003  0.902199\n",
       "2020-10-13  0.804701  0.919923  0.382573  0.985774\n",
       "2020-10-14  0.511095  0.686710  0.334212  0.818889\n",
       "2020-10-15  0.571416  0.788159  0.204103  0.622657\n",
       "2020-10-16  0.829468  0.341068  0.095448  0.174840\n",
       "2020-10-17  0.681217  0.596701  0.852546  0.317219\n",
       "2020-10-18  0.466704  0.110665  0.498379  0.130001"
      ]
     },
     "execution_count": 19,
     "metadata": {},
     "output_type": "execute_result"
    }
   ],
   "source": [
    "dates = pd.date_range('20201012', periods=7, freq='D')\n",
    "df = pd.DataFrame(np.random.random((7, 4)), index=dates, columns=list('ABCD'))\n",
    "df"
   ]
  },
  {
   "cell_type": "code",
   "execution_count": 16,
   "metadata": {
    "slideshow": {
     "slide_type": "subslide"
    }
   },
   "outputs": [
    {
     "data": {
      "text/html": [
       "<div>\n",
       "<style scoped>\n",
       "    .dataframe tbody tr th:only-of-type {\n",
       "        vertical-align: middle;\n",
       "    }\n",
       "\n",
       "    .dataframe tbody tr th {\n",
       "        vertical-align: top;\n",
       "    }\n",
       "\n",
       "    .dataframe thead th {\n",
       "        text-align: right;\n",
       "    }\n",
       "</style>\n",
       "<table border=\"1\" class=\"dataframe\">\n",
       "  <thead>\n",
       "    <tr style=\"text-align: right;\">\n",
       "      <th></th>\n",
       "      <th>Class</th>\n",
       "      <th>Registered</th>\n",
       "      <th>Waitlist</th>\n",
       "      <th>Name</th>\n",
       "    </tr>\n",
       "  </thead>\n",
       "  <tbody>\n",
       "    <tr>\n",
       "      <th>0</th>\n",
       "      <td>ECE 196</td>\n",
       "      <td>2020-10-12</td>\n",
       "      <td>0</td>\n",
       "      <td>Po</td>\n",
       "    </tr>\n",
       "    <tr>\n",
       "      <th>1</th>\n",
       "      <td>ECE 196</td>\n",
       "      <td>2020-10-12</td>\n",
       "      <td>1</td>\n",
       "      <td>Jordan</td>\n",
       "    </tr>\n",
       "    <tr>\n",
       "      <th>2</th>\n",
       "      <td>ECE 196</td>\n",
       "      <td>2020-10-12</td>\n",
       "      <td>2</td>\n",
       "      <td>Albert</td>\n",
       "    </tr>\n",
       "    <tr>\n",
       "      <th>3</th>\n",
       "      <td>ECE 196</td>\n",
       "      <td>2020-10-12</td>\n",
       "      <td>3</td>\n",
       "      <td>Curtis</td>\n",
       "    </tr>\n",
       "  </tbody>\n",
       "</table>\n",
       "</div>"
      ],
      "text/plain": [
       "     Class Registered  Waitlist    Name\n",
       "0  ECE 196 2020-10-12         0      Po\n",
       "1  ECE 196 2020-10-12         1  Jordan\n",
       "2  ECE 196 2020-10-12         2  Albert\n",
       "3  ECE 196 2020-10-12         3  Curtis"
      ]
     },
     "execution_count": 16,
     "metadata": {},
     "output_type": "execute_result"
    }
   ],
   "source": [
    "df2 = pd.DataFrame({'Class': 'ECE 196',\n",
    "                    'Registered': pd.Timestamp('20201012'),\n",
    "                    'Waitlist': pd.Series(range(4), dtype='int64'),\n",
    "                    'Name': pd.Series(['Po', 'Jordan', 'Albert', 'Curtis'])})\n",
    "df2"
   ]
  },
  {
   "cell_type": "markdown",
   "metadata": {
    "slideshow": {
     "slide_type": "slide"
    }
   },
   "source": [
    "#### 2. Reading and writing files\n",
    "There are a ton of different files that you can read and write using pandas. The typical format is `read_<filetype>` to load file and `to_<filetype>` to write file. Read more about <a href=\"https://pandas.pydata.org/pandas-docs/stable/user_guide/io.html\">I/O documentation</a>."
   ]
  },
  {
   "cell_type": "code",
   "execution_count": 34,
   "metadata": {
    "slideshow": {
     "slide_type": "subslide"
    }
   },
   "outputs": [
    {
     "data": {
      "text/html": [
       "<div>\n",
       "<style scoped>\n",
       "    .dataframe tbody tr th:only-of-type {\n",
       "        vertical-align: middle;\n",
       "    }\n",
       "\n",
       "    .dataframe tbody tr th {\n",
       "        vertical-align: top;\n",
       "    }\n",
       "\n",
       "    .dataframe thead th {\n",
       "        text-align: right;\n",
       "    }\n",
       "</style>\n",
       "<table border=\"1\" class=\"dataframe\">\n",
       "  <thead>\n",
       "    <tr style=\"text-align: right;\">\n",
       "      <th></th>\n",
       "      <th>sepal.length</th>\n",
       "      <th>sepal.width</th>\n",
       "      <th>petal.length</th>\n",
       "      <th>petal.width</th>\n",
       "      <th>variety</th>\n",
       "    </tr>\n",
       "  </thead>\n",
       "  <tbody>\n",
       "    <tr>\n",
       "      <th>0</th>\n",
       "      <td>5.1</td>\n",
       "      <td>3.5</td>\n",
       "      <td>1.4</td>\n",
       "      <td>0.2</td>\n",
       "      <td>Setosa</td>\n",
       "    </tr>\n",
       "    <tr>\n",
       "      <th>1</th>\n",
       "      <td>4.9</td>\n",
       "      <td>3.0</td>\n",
       "      <td>1.4</td>\n",
       "      <td>0.2</td>\n",
       "      <td>Setosa</td>\n",
       "    </tr>\n",
       "    <tr>\n",
       "      <th>2</th>\n",
       "      <td>4.7</td>\n",
       "      <td>3.2</td>\n",
       "      <td>1.3</td>\n",
       "      <td>0.2</td>\n",
       "      <td>Setosa</td>\n",
       "    </tr>\n",
       "    <tr>\n",
       "      <th>3</th>\n",
       "      <td>4.6</td>\n",
       "      <td>3.1</td>\n",
       "      <td>1.5</td>\n",
       "      <td>0.2</td>\n",
       "      <td>Setosa</td>\n",
       "    </tr>\n",
       "    <tr>\n",
       "      <th>4</th>\n",
       "      <td>5.0</td>\n",
       "      <td>3.6</td>\n",
       "      <td>1.4</td>\n",
       "      <td>0.2</td>\n",
       "      <td>Setosa</td>\n",
       "    </tr>\n",
       "    <tr>\n",
       "      <th>...</th>\n",
       "      <td>...</td>\n",
       "      <td>...</td>\n",
       "      <td>...</td>\n",
       "      <td>...</td>\n",
       "      <td>...</td>\n",
       "    </tr>\n",
       "    <tr>\n",
       "      <th>145</th>\n",
       "      <td>6.7</td>\n",
       "      <td>3.0</td>\n",
       "      <td>5.2</td>\n",
       "      <td>2.3</td>\n",
       "      <td>Virginica</td>\n",
       "    </tr>\n",
       "    <tr>\n",
       "      <th>146</th>\n",
       "      <td>6.3</td>\n",
       "      <td>2.5</td>\n",
       "      <td>5.0</td>\n",
       "      <td>1.9</td>\n",
       "      <td>Virginica</td>\n",
       "    </tr>\n",
       "    <tr>\n",
       "      <th>147</th>\n",
       "      <td>6.5</td>\n",
       "      <td>3.0</td>\n",
       "      <td>5.2</td>\n",
       "      <td>2.0</td>\n",
       "      <td>Virginica</td>\n",
       "    </tr>\n",
       "    <tr>\n",
       "      <th>148</th>\n",
       "      <td>6.2</td>\n",
       "      <td>3.4</td>\n",
       "      <td>5.4</td>\n",
       "      <td>2.3</td>\n",
       "      <td>Virginica</td>\n",
       "    </tr>\n",
       "    <tr>\n",
       "      <th>149</th>\n",
       "      <td>5.9</td>\n",
       "      <td>3.0</td>\n",
       "      <td>5.1</td>\n",
       "      <td>1.8</td>\n",
       "      <td>Virginica</td>\n",
       "    </tr>\n",
       "  </tbody>\n",
       "</table>\n",
       "<p>150 rows × 5 columns</p>\n",
       "</div>"
      ],
      "text/plain": [
       "     sepal.length  sepal.width  petal.length  petal.width    variety\n",
       "0             5.1          3.5           1.4          0.2     Setosa\n",
       "1             4.9          3.0           1.4          0.2     Setosa\n",
       "2             4.7          3.2           1.3          0.2     Setosa\n",
       "3             4.6          3.1           1.5          0.2     Setosa\n",
       "4             5.0          3.6           1.4          0.2     Setosa\n",
       "..            ...          ...           ...          ...        ...\n",
       "145           6.7          3.0           5.2          2.3  Virginica\n",
       "146           6.3          2.5           5.0          1.9  Virginica\n",
       "147           6.5          3.0           5.2          2.0  Virginica\n",
       "148           6.2          3.4           5.4          2.3  Virginica\n",
       "149           5.9          3.0           5.1          1.8  Virginica\n",
       "\n",
       "[150 rows x 5 columns]"
      ]
     },
     "execution_count": 34,
     "metadata": {},
     "output_type": "execute_result"
    }
   ],
   "source": [
    "df = pd.read_csv('./examples/iris.csv')\n",
    "df\n",
    "# df.head() # default to first 5 rows\n",
    "# df.tail() # default to last 5 rows"
   ]
  },
  {
   "cell_type": "markdown",
   "metadata": {},
   "source": [
    "#### 3. Indexing\n"
   ]
  },
  {
   "cell_type": "code",
   "execution_count": 33,
   "metadata": {},
   "outputs": [
    {
     "data": {
      "text/html": [
       "<div>\n",
       "<style scoped>\n",
       "    .dataframe tbody tr th:only-of-type {\n",
       "        vertical-align: middle;\n",
       "    }\n",
       "\n",
       "    .dataframe tbody tr th {\n",
       "        vertical-align: top;\n",
       "    }\n",
       "\n",
       "    .dataframe thead th {\n",
       "        text-align: right;\n",
       "    }\n",
       "</style>\n",
       "<table border=\"1\" class=\"dataframe\">\n",
       "  <thead>\n",
       "    <tr style=\"text-align: right;\">\n",
       "      <th></th>\n",
       "      <th>dateRep</th>\n",
       "      <th>day</th>\n",
       "      <th>month</th>\n",
       "      <th>year</th>\n",
       "      <th>cases</th>\n",
       "      <th>deaths</th>\n",
       "      <th>countriesAndTerritories</th>\n",
       "      <th>geoId</th>\n",
       "      <th>countryterritoryCode</th>\n",
       "      <th>popData2019</th>\n",
       "      <th>continentExp</th>\n",
       "      <th>Cumulative_number_for_14_days_of_COVID-19_cases_per_100000</th>\n",
       "    </tr>\n",
       "  </thead>\n",
       "  <tbody>\n",
       "  </tbody>\n",
       "</table>\n",
       "</div>"
      ],
      "text/plain": [
       "Empty DataFrame\n",
       "Columns: [dateRep, day, month, year, cases, deaths, countriesAndTerritories, geoId, countryterritoryCode, popData2019, continentExp, Cumulative_number_for_14_days_of_COVID-19_cases_per_100000]\n",
       "Index: []"
      ]
     },
     "execution_count": 33,
     "metadata": {},
     "output_type": "execute_result"
    }
   ],
   "source": [
    "\n",
    "# new_df = df[df['countriesAndTerritories'] == 'US']\n",
    "# new_df"
   ]
  },
  {
   "cell_type": "code",
   "execution_count": null,
   "metadata": {},
   "outputs": [],
   "source": []
  },
  {
   "cell_type": "markdown",
   "metadata": {
    "slideshow": {
     "slide_type": "slide"
    }
   },
   "source": [
    "## Matplotlib\n"
   ]
  },
  {
   "cell_type": "markdown",
   "metadata": {
    "slideshow": {
     "slide_type": "fragment"
    }
   },
   "source": [
    "<div class=\"alert alert-success\">\n",
    "<a https://matplotlib.org/\" class=\"alert-link\">Matplotlib</a> is a Python library that provides customizable static, animated, and interactive visualizations in Python.\n",
    "</div>"
   ]
  },
  {
   "cell_type": "markdown",
   "metadata": {
    "slideshow": {
     "slide_type": "fragment"
    }
   },
   "source": [
    "Read the <a href=\"https://matplotlib.org/tutorials/introductory/usage.html#sphx-glr-tutorials-introductory-usage-py\">beginner's guide on pandas</a> and more about its detailed <a href=\"https://matplotlib.org/users/index.html\">documentation</a>."
   ]
  },
  {
   "cell_type": "markdown",
   "metadata": {
    "slideshow": {
     "slide_type": "slide"
    }
   },
   "source": [
    "1. Basic plotting\n",
    "    * line plot\n",
    "    * scatter plot\n",
    "    * bar graph\n",
    "2. Plot features\n",
    "    * title\n",
    "    * axis\n",
    "    * label\n",
    "    * legend\n",
    "    * tick\n",
    "    * marker\n",
    "    * grid\n",
    "3. Subplots\n",
    "4. Save\n",
    "5. Plot example numpy, pandas"
   ]
  },
  {
   "cell_type": "markdown",
   "metadata": {
    "slideshow": {
     "slide_type": "slide"
    }
   },
   "source": [
    "#### 1. Basic plotting\n",
    "Learn more about different plots <a href = \"https://matplotlib.org/3.3.2/tutorials/introductory/sample_plots.html\">here</a>."
   ]
  },
  {
   "cell_type": "markdown",
   "metadata": {
    "slideshow": {
     "slide_type": "subslide"
    }
   },
   "source": [
    "Line plots  \n",
    "`plt.plot`"
   ]
  },
  {
   "cell_type": "code",
   "execution_count": 44,
   "metadata": {
    "slideshow": {
     "slide_type": "fragment"
    }
   },
   "outputs": [],
   "source": [
    "import matplotlib.pyplot as plt\n",
    "# include the line below to display code in Jupyter Notebook\n",
    "%matplotlib inline"
   ]
  },
  {
   "cell_type": "code",
   "execution_count": 46,
   "metadata": {
    "slideshow": {
     "slide_type": "fragment"
    }
   },
   "outputs": [
    {
     "data": {
      "image/png": "[encoded data removed]",
      "text/plain": [
       "<Figure size 432x288 with 1 Axes>"
      ]
     },
     "metadata": {
      "needs_background": "light"
     },
     "output_type": "display_data"
    }
   ],
   "source": [
    "a = np.array([2, 1, 5, 7, 4, 6, 8, 14, 10, 9, 18, 20, 22])\n",
    "plt.plot(a)\n",
    "plt.show()"
   ]
  },
  {
   "cell_type": "code",
   "execution_count": 71,
   "metadata": {
    "slideshow": {
     "slide_type": "subslide"
    }
   },
   "outputs": [
    {
     "data": {
      "image/png": "[encoded data removed]",
      "text/plain": [
       "<Figure size 432x288 with 1 Axes>"
      ]
     },
     "metadata": {
      "needs_background": "light"
     },
     "output_type": "display_data"
    }
   ],
   "source": [
    "x = np.linspace(0, 5, 20)\n",
    "y = np.linspace(0, 10, 20)\n",
    "plt.plot(x, y, 'purple') # line\n",
    "plt.plot(x, y, 'o')      # dots\n",
    "plt.show()"
   ]
  },
  {
   "cell_type": "markdown",
   "metadata": {
    "slideshow": {
     "slide_type": "subslide"
    }
   },
   "source": [
    "Scatter plots  \n",
    "`plt.scatter`"
   ]
  },
  {
   "cell_type": "code",
   "execution_count": 66,
   "metadata": {
    "slideshow": {
     "slide_type": "fragment"
    }
   },
   "outputs": [
    {
     "data": {
      "image/png": "[encoded data removed]",
      "text/plain": [
       "<Figure size 432x288 with 1 Axes>"
      ]
     },
     "metadata": {
      "needs_background": "light"
     },
     "output_type": "display_data"
    }
   ],
   "source": [
    "N = 50\n",
    "x = np.random.rand(N)\n",
    "y = np.random.rand(N)\n",
    "colors = np.random.rand(N)\n",
    "area = (30 * np.random.rand(N))**2  # 0 to 15 point radii\n",
    "\n",
    "plt.scatter(x, y, s=area, c=colors, alpha=0.5)\n",
    "plt.show()"
   ]
  },
  {
   "cell_type": "markdown",
   "metadata": {
    "slideshow": {
     "slide_type": "subslide"
    }
   },
   "source": [
    "Bar graphs  \n",
    "`plt.bar`"
   ]
  },
  {
   "cell_type": "code",
   "execution_count": 65,
   "metadata": {
    "slideshow": {
     "slide_type": "fragment"
    }
   },
   "outputs": [
    {
     "data": {
      "image/png": "[encoded data removed]",
      "text/plain": [
       "<Figure size 432x288 with 1 Axes>"
      ]
     },
     "metadata": {
      "needs_background": "light"
     },
     "output_type": "display_data"
    }
   ],
   "source": [
    "car = ['Mercedes', 'BMW', 'Honda', 'Ford', 'Toyota', 'Nissan', 'Audi']\n",
    "sales = [12, 10.5, 9, 15, 24, 6, 7.5]\n",
    "\n",
    "plt.bar(car, sales)\n",
    "plt.xlabel(\"Make\")\n",
    "plt.ylabel(\"Vehicles sold (in 10,000)\")\n",
    "plt.title(\"Number of Car Sales by Brand (2019)\")\n",
    "plt.show()"
   ]
  },
  {
   "cell_type": "markdown",
   "metadata": {
    "slideshow": {
     "slide_type": "slide"
    }
   },
   "source": [
    "#### 2. Plot features\n",
    "<center><img src=\"./examples/anatomy.png\" width=\"450px\"></center>"
   ]
  },
  {
   "cell_type": "code",
   "execution_count": 39,
   "metadata": {
    "slideshow": {
     "slide_type": "subslide"
    }
   },
   "outputs": [
    {
     "data": {
      "image/png": "[encoded data removed]",
      "text/plain": [
       "<Figure size 432x288 with 1 Axes>"
      ]
     },
     "metadata": {
      "needs_background": "light"
     },
     "output_type": "display_data"
    }
   ],
   "source": [
    "# Compute the x and y coordinates for points on sine and cosine curves\n",
    "x = np.arange(0, 3 * np.pi, 0.1)\n",
    "y_sin = np.sin(x)\n",
    "y_cos = np.cos(x)\n",
    "\n",
    "# Plot the points using matplotlib\n",
    "plt.plot(x, y_sin)\n",
    "plt.plot(x, y_cos)\n",
    "plt.xlabel('x axis label')\n",
    "plt.ylabel('y axis label')\n",
    "plt.title('Sine and Cosine')\n",
    "plt.legend(['Sine', 'Cosine'])\n",
    "plt.show()"
   ]
  },
  {
   "cell_type": "markdown",
   "metadata": {
    "slideshow": {
     "slide_type": "slide"
    }
   },
   "source": [
    "#### 3. Subplots\n",
    "<center><img src=\"./examples/big_picture.png\" width=\"300px\"></center>"
   ]
  },
  {
   "cell_type": "code",
   "execution_count": 40,
   "metadata": {
    "slideshow": {
     "slide_type": "subslide"
    }
   },
   "outputs": [
    {
     "data": {
      "image/png": "[encoded data removed]",
      "text/plain": [
       "<Figure size 432x288 with 2 Axes>"
      ]
     },
     "metadata": {
      "needs_background": "light"
     },
     "output_type": "display_data"
    }
   ],
   "source": [
    "# Compute the x and y coordinates for points on sine and cosine curves\n",
    "x = np.arange(0, 3 * np.pi, 0.1)\n",
    "y_sin = np.sin(x)\n",
    "y_cos = np.cos(x)\n",
    "\n",
    "# Set up a subplot grid that has height 2 and width 1,\n",
    "# and set the first such subplot as active.\n",
    "plt.subplot(2, 1, 1)\n",
    "\n",
    "# Make the first plot\n",
    "plt.plot(x, y_sin)\n",
    "plt.title('Sine')\n",
    "\n",
    "# Set the second subplot as active, and make the second plot.\n",
    "plt.subplot(2, 1, 2)\n",
    "plt.plot(x, y_cos)\n",
    "plt.title('Cosine')\n",
    "\n",
    "# Show the figure.\n",
    "plt.show()"
   ]
  },
  {
   "cell_type": "markdown",
   "metadata": {
    "slideshow": {
     "slide_type": "slide"
    }
   },
   "source": [
    "#### 4. Save plots"
   ]
  },
  {
   "cell_type": "markdown",
   "metadata": {
    "slideshow": {
     "slide_type": "slide"
    }
   },
   "source": [
    "#### 5. Plot examples"
   ]
  },
  {
   "cell_type": "markdown",
   "metadata": {
    "slideshow": {
     "slide_type": "slide"
    }
   },
   "source": [
    "3D plot"
   ]
  },
  {
   "cell_type": "code",
   "execution_count": 50,
   "metadata": {
    "slideshow": {
     "slide_type": "fragment"
    }
   },
   "outputs": [
    {
     "data": {
      "image/png": "[encoded data removed]",
      "text/plain": [
       "<Figure size 432x288 with 1 Axes>"
      ]
     },
     "metadata": {
      "needs_background": "light"
     },
     "output_type": "display_data"
    }
   ],
   "source": [
    "from mpl_toolkits.mplot3d import Axes3D\n",
    "fig = plt.figure()\n",
    "ax = Axes3D(fig)\n",
    "X = np.arange(-5, 5, 0.15)\n",
    "Y = np.arange(-5, 5, 0.15)\n",
    "X, Y = np.meshgrid(X, Y)\n",
    "R = np.sqrt(X**2 + Y**2)\n",
    "Z = np.sin(R)\n",
    "\n",
    "ax.plot_surface(X, Y, Z, rstride=1, cstride=1, cmap='viridis')\n",
    "plt.show()"
   ]
  },
  {
   "cell_type": "markdown",
   "metadata": {},
   "source": [
    "## Seaborn\n",
    "* Different plots (heatmap, distplot, boxplot, jointplot, lmplot)\n",
    "* format using matplotlib, pandas\n",
    "* color palette, hue"
   ]
  },
  {
   "cell_type": "markdown",
   "metadata": {},
   "source": [
    "## Sci-Kit Learn\n",
    "* encode\n",
    "* fit, transform, predict (people had trouble understanding)\n",
    "* start off with linear regression\n",
    "* show score\n",
    "* standardization & normalize\n",
    "* get familiar with syntax\n",
    "* supervised\n",
    "* unsupervised"
   ]
  },
  {
   "cell_type": "code",
   "execution_count": null,
   "metadata": {},
   "outputs": [],
   "source": []
  }
 ],
 "metadata": {
  "celltoolbar": "Slideshow",
  "kernelspec": {
   "display_name": "Python 3",
   "language": "python",
   "name": "python3"
  },
  "language_info": {
   "codemirror_mode": {
    "name": "ipython",
    "version": 3
   },
   "file_extension": ".py",
   "mimetype": "text/x-python",
   "name": "python",
   "nbconvert_exporter": "python",
   "pygments_lexer": "ipython3",
   "version": "3.7.4"
  }
 },
 "nbformat": 4,
 "nbformat_minor": 2
}
